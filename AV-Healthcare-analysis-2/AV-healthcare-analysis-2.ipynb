{
 "metadata": {
  "language_info": {
   "codemirror_mode": {
    "name": "ipython",
    "version": 3
   },
   "file_extension": ".py",
   "mimetype": "text/x-python",
   "name": "python",
   "nbconvert_exporter": "python",
   "pygments_lexer": "ipython3",
   "version": "3.8.5-final"
  },
  "orig_nbformat": 2,
  "kernelspec": {
   "name": "python_defaultSpec_1599047565886",
   "display_name": "Python 3.8.5 64-bit ('base': conda)"
  }
 },
 "nbformat": 4,
 "nbformat_minor": 2,
 "cells": [
  {
   "cell_type": "code",
   "execution_count": 11,
   "metadata": {},
   "outputs": [],
   "source": [
    "import pandas as pd \n",
    "import numpy as np \n",
    "import matplotlib.pyplot as plt \n"
   ]
  },
  {
   "cell_type": "markdown",
   "metadata": {},
   "source": [
    "# Loading training and testing dataset from folder\n",
    "Here train_data.csv contains training data and test_data.csv contains testing data but without result.\n",
    "Result column of test_data is in sample_sub.csv\n",
    "### df_train = final training dataset\n",
    "### df_test = final testing dataset"
   ]
  },
  {
   "cell_type": "code",
   "execution_count": 12,
   "metadata": {},
   "outputs": [],
   "source": [
    "df_train = pd.read_csv(\"train_data.csv\")\n",
    "df_test_without_result_col = pd.read_csv(\"test_data.csv\")\n",
    "df_result_col = pd.read_csv(\"sample_sub.csv\")\n",
    "df_test = df_test_without_result_col.merge(df_result_col,on=\"case_id\") #merging testing datas"
   ]
  },
  {
   "cell_type": "markdown",
   "metadata": {},
   "source": [
    "## Dropping 'case_id','patient_id' from train_data and test_data"
   ]
  },
  {
   "cell_type": "code",
   "execution_count": 13,
   "metadata": {},
   "outputs": [],
   "source": [
    "df_train.drop(['case_id','patientid'],axis=1,inplace=True)\n",
    "df_test.drop(['case_id','patientid'],axis=1,inplace=True)"
   ]
  },
  {
   "cell_type": "code",
   "execution_count": 14,
   "metadata": {},
   "outputs": [
    {
     "output_type": "execute_result",
     "data": {
      "text/plain": "Severity of Illness\nExtreme      56723\nMinor        85872\nModerate    175843\ndtype: int64"
     },
     "metadata": {},
     "execution_count": 14
    }
   ],
   "source": [
    "df_test.head()\n",
    "df_train.groupby('Severity of Illness').size()"
   ]
  },
  {
   "cell_type": "markdown",
   "metadata": {},
   "source": [
    "# Encoding \n",
    "##'Type of Admission','Severity of illness'"
   ]
  },
  {
   "cell_type": "code",
   "execution_count": 15,
   "metadata": {},
   "outputs": [
    {
     "output_type": "execute_result",
     "data": {
      "text/plain": "   Hospital_code Hospital_type_code  City_Code_Hospital Hospital_region_code  \\\n0              8                  c                   3                    Z   \n1              2                  c                   5                    Z   \n2             10                  e                   1                    X   \n3             26                  b                   2                    Y   \n4             26                  b                   2                    Y   \n\n   Available Extra Rooms in Hospital    Department Ward_Type  \\\n0                                  3  radiotherapy         R   \n1                                  2  radiotherapy         S   \n2                                  2    anesthesia         S   \n3                                  2  radiotherapy         R   \n4                                  2  radiotherapy         S   \n\n  Ward_Facility_Code  Bed Grade  City_Code_Patient  Type of Admission  \\\n0                  F        2.0                7.0                  2   \n1                  F        2.0                7.0                  1   \n2                  E        2.0                7.0                  1   \n3                  D        2.0                7.0                  1   \n4                  D        2.0                7.0                  1   \n\n   Severity of Illness  Visitors with Patient    Age  Admission_Deposit   Stay  \n0                    2                      2  51-60             4911.0   0-10  \n1                    2                      2  51-60             5954.0  41-50  \n2                    2                      2  51-60             4745.0  31-40  \n3                    2                      2  51-60             7272.0  41-50  \n4                    2                      2  51-60             5558.0  41-50  ",
      "text/html": "<div>\n<style scoped>\n    .dataframe tbody tr th:only-of-type {\n        vertical-align: middle;\n    }\n\n    .dataframe tbody tr th {\n        vertical-align: top;\n    }\n\n    .dataframe thead th {\n        text-align: right;\n    }\n</style>\n<table border=\"1\" class=\"dataframe\">\n  <thead>\n    <tr style=\"text-align: right;\">\n      <th></th>\n      <th>Hospital_code</th>\n      <th>Hospital_type_code</th>\n      <th>City_Code_Hospital</th>\n      <th>Hospital_region_code</th>\n      <th>Available Extra Rooms in Hospital</th>\n      <th>Department</th>\n      <th>Ward_Type</th>\n      <th>Ward_Facility_Code</th>\n      <th>Bed Grade</th>\n      <th>City_Code_Patient</th>\n      <th>Type of Admission</th>\n      <th>Severity of Illness</th>\n      <th>Visitors with Patient</th>\n      <th>Age</th>\n      <th>Admission_Deposit</th>\n      <th>Stay</th>\n    </tr>\n  </thead>\n  <tbody>\n    <tr>\n      <th>0</th>\n      <td>8</td>\n      <td>c</td>\n      <td>3</td>\n      <td>Z</td>\n      <td>3</td>\n      <td>radiotherapy</td>\n      <td>R</td>\n      <td>F</td>\n      <td>2.0</td>\n      <td>7.0</td>\n      <td>2</td>\n      <td>2</td>\n      <td>2</td>\n      <td>51-60</td>\n      <td>4911.0</td>\n      <td>0-10</td>\n    </tr>\n    <tr>\n      <th>1</th>\n      <td>2</td>\n      <td>c</td>\n      <td>5</td>\n      <td>Z</td>\n      <td>2</td>\n      <td>radiotherapy</td>\n      <td>S</td>\n      <td>F</td>\n      <td>2.0</td>\n      <td>7.0</td>\n      <td>1</td>\n      <td>2</td>\n      <td>2</td>\n      <td>51-60</td>\n      <td>5954.0</td>\n      <td>41-50</td>\n    </tr>\n    <tr>\n      <th>2</th>\n      <td>10</td>\n      <td>e</td>\n      <td>1</td>\n      <td>X</td>\n      <td>2</td>\n      <td>anesthesia</td>\n      <td>S</td>\n      <td>E</td>\n      <td>2.0</td>\n      <td>7.0</td>\n      <td>1</td>\n      <td>2</td>\n      <td>2</td>\n      <td>51-60</td>\n      <td>4745.0</td>\n      <td>31-40</td>\n    </tr>\n    <tr>\n      <th>3</th>\n      <td>26</td>\n      <td>b</td>\n      <td>2</td>\n      <td>Y</td>\n      <td>2</td>\n      <td>radiotherapy</td>\n      <td>R</td>\n      <td>D</td>\n      <td>2.0</td>\n      <td>7.0</td>\n      <td>1</td>\n      <td>2</td>\n      <td>2</td>\n      <td>51-60</td>\n      <td>7272.0</td>\n      <td>41-50</td>\n    </tr>\n    <tr>\n      <th>4</th>\n      <td>26</td>\n      <td>b</td>\n      <td>2</td>\n      <td>Y</td>\n      <td>2</td>\n      <td>radiotherapy</td>\n      <td>S</td>\n      <td>D</td>\n      <td>2.0</td>\n      <td>7.0</td>\n      <td>1</td>\n      <td>2</td>\n      <td>2</td>\n      <td>51-60</td>\n      <td>5558.0</td>\n      <td>41-50</td>\n    </tr>\n  </tbody>\n</table>\n</div>"
     },
     "metadata": {},
     "execution_count": 15
    }
   ],
   "source": [
    "df_train['Type of Admission'].replace({'Emergency':2,'Trauma':1,'Urgent':0},inplace=True)\n",
    "df_train['Severity of Illness'].replace({'Extreme':2,'Moderate':1,'Minor':0},inplace=True)\n",
    "df_train.head()"
   ]
  },
  {
   "cell_type": "code",
   "execution_count": null,
   "metadata": {},
   "outputs": [],
   "source": []
  }
 ]
}